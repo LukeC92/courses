{
 "cells": [
  {
   "cell_type": "markdown",
   "metadata": {},
   "source": [
    "# An Introduction to Dask\n",
    "\n",
    "Dask is a flexible parallel computing library for Python. It allows dynamic scheduling of tasks for optimising computations and includes collections (extensions of arrays, lists and dataframes) for use with parallel data processing."
   ]
  },
  {
   "cell_type": "markdown",
   "metadata": {},
   "source": [
    "## Terminology"
   ]
  },
  {
   "cell_type": "markdown",
   "metadata": {},
   "source": [
    "### General\n",
    "\n",
    "#### Thread\n",
    "A thread is the simplest unit of computation.\n",
    "\n",
    "#### Process\n",
    "A process is an isolated computation which consists of one or more threads.\n",
    "\n",
    "#### Graph\n",
    "A way to represent 'things' and their relationships, where a node (circle) is a thing and an edge (line) between nodes is their relationship; e.g. a social network where nodes are people and edges are their friendships.\n"
   ]
  },
  {
   "cell_type": "markdown",
   "metadata": {},
   "source": [
    "### Dask\n",
    "\n",
    "#### Dask architecture\n",
    "Below is the basic structure of how the components of dask interact:\n",
    "\n",
    "![](../images/dask_architecture.png)\n",
    "\n",
    "#### Client\n",
    "A client is a Python class that provides the primary point of access to a scheduler and its associated workers. \n",
    "\n",
    "#### Scheduler\n",
    "One of Dask’s key benefits is its ability to efficiently schedule tasks to optimize computations. Everything Dask does is built on top of “schedulers”. These schedulers take the order of work established by a task graph and find the optimal way to break down and carry out the tasks.\n",
    "\n",
    "Dask has four types of schedulers:\n",
    "- Synchronous: Single thread (good for debugging).\n",
    "        dask.get\n",
    "- Threaded: Utilises a thread pool.\n",
    "        dask.threaded.get\n",
    "- Multiprocessing: Utilises a process pool.\n",
    "        dask.multiprocessing.get\n",
    "- Distributed: Utilises a cluster of distributed machines.\n",
    "        distributed.Client.get\n",
    "\n",
    "#### Worker\n",
    "A worker receives work from the scheduler to process and returns output to the scheduler. A worker can be a thread, a process or a whole machine, depending on the scheduler used."
   ]
  },
  {
   "cell_type": "markdown",
   "metadata": {},
   "source": [
    "#### Task Graph\n",
    "A graph of tasks (nodes) and the data which is required to pass between them (edges).\n",
    "In the context of dask:\n",
    "- Task = circle\n",
    "- Data = box\n",
    "- Direction of flow = arrow"
   ]
  },
  {
   "cell_type": "code",
   "execution_count": 8,
   "metadata": {
    "collapsed": true
   },
   "outputs": [],
   "source": [
    "def add(a, b):\n",
    "    return a + b\n",
    "\n",
    "x = 1\n",
    "y = 2\n",
    "z = add(x, y)\n",
    "w = sum([x, y, z])"
   ]
  },
  {
   "cell_type": "markdown",
   "metadata": {},
   "source": [
    "![](../images/task_graph_def_img_1.png)\n",
    "\n",
    "Viewing the relationship between tasks and data can reveal better\\* ways to order the tasks to achieve the same computation.\n",
    "\n",
    "\\* Better can mean in less time or using less memory or both!"
   ]
  },
  {
   "cell_type": "markdown",
   "metadata": {},
   "source": [
    "#### Dask Graph\n",
    "Dask stores task graphs in a Python dictionary which maps keys to computations:"
   ]
  },
  {
   "cell_type": "code",
   "execution_count": null,
   "metadata": {
    "collapsed": true
   },
   "outputs": [],
   "source": [
    "dsk = {'x': 1,\n",
    "       'y': 2,\n",
    "       'z': (add, 'x', 'y'),\n",
    "       'w': (sum, ['x', 'y', 'z'])\n",
    "      }"
   ]
  },
  {
   "cell_type": "markdown",
   "metadata": {},
   "source": [
    "Dask is different from other parallelising libraries in that it uses ordinary Python structures to represent task graphs instead of a specialised API:\n",
    "\n",
    "- {Dicts}\n",
    "- (Tuples)\n",
    "- Functions()\n",
    "- Values\n"
   ]
  },
  {
   "cell_type": "markdown",
   "metadata": {},
   "source": [
    "## Exercise"
   ]
  },
  {
   "cell_type": "code",
   "execution_count": null,
   "metadata": {
    "collapsed": true
   },
   "outputs": [],
   "source": []
  },
  {
   "cell_type": "code",
   "execution_count": null,
   "metadata": {
    "collapsed": true
   },
   "outputs": [],
   "source": []
  },
  {
   "cell_type": "code",
   "execution_count": null,
   "metadata": {
    "collapsed": true
   },
   "outputs": [],
   "source": []
  },
  {
   "cell_type": "code",
   "execution_count": null,
   "metadata": {},
   "outputs": [],
   "source": []
  },
  {
   "cell_type": "code",
   "execution_count": null,
   "metadata": {},
   "outputs": [],
   "source": []
  },
  {
   "cell_type": "code",
   "execution_count": null,
   "metadata": {},
   "outputs": [],
   "source": []
  },
  {
   "cell_type": "code",
   "execution_count": null,
   "metadata": {},
   "outputs": [],
   "source": []
  }
 ],
 "metadata": {
  "kernelspec": {
   "display_name": "Python 3",
   "language": "python",
   "name": "python3"
  },
  "language_info": {
   "codemirror_mode": {
    "name": "ipython",
    "version": 3
   },
   "file_extension": ".py",
   "mimetype": "text/x-python",
   "name": "python",
   "nbconvert_exporter": "python",
   "pygments_lexer": "ipython3",
   "version": "3.6.4"
  }
 },
 "nbformat": 4,
 "nbformat_minor": 1
}
